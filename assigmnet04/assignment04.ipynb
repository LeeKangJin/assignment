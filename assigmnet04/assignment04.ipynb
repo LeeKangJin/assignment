{
 "cells": [
  {
   "cell_type": "markdown",
   "metadata": {},
   "source": [
    "# assignment 04 report\n",
    "\n",
    "# Name : Kang Jin Lee\n",
    "# Student ID : 20135619\n"
   ]
  },
  {
   "cell_type": "markdown",
   "metadata": {},
   "source": [
    "# import packages :"
   ]
  },
  {
   "cell_type": "code",
   "execution_count": 1,
   "metadata": {},
   "outputs": [],
   "source": [
    "import numpy as np\n",
    "import random as r\n",
    "import math\n",
    "import matplotlib.pyplot as plt"
   ]
  },
  {
   "cell_type": "markdown",
   "metadata": {},
   "source": [
    "# Varivale Summary\n",
    "\n",
    "### trueLabel : true label in excel file.\n",
    "\n",
    "### assumLabel : assume label by me.\n",
    "\n",
    "### imageList : all verctor of image.\n",
    "\n",
    "### center : centers of each label's image\n",
    "\n",
    "# Constant Summary\n",
    "\n",
    "### NUM_IMAGE : 10000\n",
    "\n",
    "### SIZE_ROW, SIZE_COL = 28\n",
    "\n",
    "### numberCluster = 10\n",
    "\n",
    "\n",
    "\n",
    "\n",
    "# Function Summary\n",
    "\n",
    "# 1.The Function Using by the professor's example file.\n",
    "\n",
    "## normalize(data)\n",
    "\n",
    "#### : data normalize\n",
    "\n",
    "## FileRead(FileName)\n",
    "\n",
    "#### : excel file read\n",
    "\n",
    "## distance(x,y)\n",
    "\n",
    "#### :distance calcaulation between x vector and y vector\n",
    "\n",
    "\n",
    "\n",
    "# 2. My Function\n",
    "\n",
    "## labelInit(NUM_IMAGE)\n",
    "\n",
    "## labelChange(imageList,center,NUM_IMAGE)\n",
    "\n",
    "### : assume label change using each distance between centers and images  using minDistanceIndex ( calculate minium distance's index) Function\n",
    "\n",
    "## computeCenter(labelList,imageList,NUM_IMAGE)\n",
    "\n",
    "## computeAccuracy(trueLable, assumLable, numberCluster)\n"
   ]
  },
  {
   "cell_type": "markdown",
   "metadata": {},
   "source": [
    "# 1. The function provided is not explained in detail."
   ]
  },
  {
   "cell_type": "code",
   "execution_count": 2,
   "metadata": {},
   "outputs": [],
   "source": [
    "SIZE_ROW = 28\n",
    "SIZE_COL = 28\n",
    "\n",
    "def normalize(data):\n",
    "\n",
    "    data_normalized = (data - min(data)) / (max(data) - min(data))\n",
    "\n",
    "    return(data_normalized)\n",
    "\n",
    "\n",
    "def fileRead(fileName):\n",
    "\n",
    "    file_data = fileName\n",
    "    handle_file = open( file_data, \"r\" )\n",
    "    data = handle_file.readlines()\n",
    "    handle_file.close()\n",
    "    NUM_IMAGE = len(data)\n",
    "    list_image = np.empty( (SIZE_ROW * SIZE_COL, NUM_IMAGE), dtype=float )\n",
    "    list_label = np.empty( NUM_IMAGE, dtype=int )\n",
    "    count = 0\n",
    "\n",
    "    for line in data:\n",
    "        line_data = line.split( ',' )\n",
    "        label = line_data[0]\n",
    "        im_vector = np.asfarray( line_data[1:] )\n",
    "        im_vector = normalize( im_vector )\n",
    "\n",
    "        list_label[count] = label\n",
    "        list_image[:, count] = im_vector\n",
    "\n",
    "        count += 1\n",
    "\n",
    "    return list_label,list_image,NUM_IMAGE\n",
    "\n",
    "def distance(x, y):\n",
    "\n",
    "    d = (x - y) ** 2\n",
    "    s = np.sum(d)\n",
    "    # r = np.sqrt(s)\n",
    "    # if s>10000 or s<0.1:\n",
    "    #     print(x)\n",
    "    #     print(y)\n",
    "    # if math.isnan(s):     # test code\n",
    "    #     print(x)\n",
    "    #     print(y)\n",
    "    return s"
   ]
  },
  {
   "cell_type": "markdown",
   "metadata": {},
   "source": [
    "# 2. My Function  \n",
    "\n",
    "# labelInit\n",
    "\n",
    "## initialize label randomly.\n",
    "\n",
    "#### : randInitValOut : randomly output ( type int , value 0~9)"
   ]
  },
  {
   "cell_type": "code",
   "execution_count": 3,
   "metadata": {},
   "outputs": [],
   "source": [
    "def randInitValOut():  # randomly initialise.\n",
    "    return r.randint(0, 9)\n",
    "\n",
    "def labelInit(NUM_IMAGE):\n",
    "    labelList =  np.empty( NUM_IMAGE, dtype=int )\n",
    "\n",
    "    for i in range(NUM_IMAGE):\n",
    "        labelList[i] =  randInitValOut()\n",
    "    return labelList\n"
   ]
  },
  {
   "cell_type": "markdown",
   "metadata": {},
   "source": [
    "# labelChange\n",
    "\n",
    "## calculate new label using new distance between center & each image vector\n",
    "\n",
    "#### : minDistanceIndex : calculate the distance. and output is new label "
   ]
  },
  {
   "cell_type": "code",
   "execution_count": 4,
   "metadata": {},
   "outputs": [],
   "source": [
    "def minDistanceIndex(image, center):\n",
    "    dis = np.asfarray([-1,-1,-1,-1,-1,-1,-1,-1,-1,-1])\n",
    "    \n",
    "    for i in range( 10 ):\n",
    "        dis[i] =  distance( image, center[:,i] )\n",
    "\n",
    "    return np.argmin(dis) ,np.min(dis) # min Label , min distance . \n",
    "\n",
    "def labelChange(imageList,center,NUM_IMAGE):\n",
    "    newLabel =np.empty( NUM_IMAGE, dtype=int )\n",
    "    totalMinDistanceList = np.empty( NUM_IMAGE, dtype=float )\n",
    "\n",
    "\n",
    "    #Distance Check\n",
    "    for i in range(NUM_IMAGE):\n",
    "        ret = (minDistanceIndex(imageList[:,i],center))\n",
    "        newLabel[i] =ret[0]\n",
    "        totalMinDistanceList[i] =ret[1]\n",
    "    return newLabel,totalMinDistanceList # new Label , total distance (total distance will use for calculate energy )"
   ]
  },
  {
   "cell_type": "markdown",
   "metadata": {},
   "source": [
    "# Center Image plotting\n",
    "\n",
    "# center number :10 plotting "
   ]
  },
  {
   "cell_type": "code",
   "execution_count": 5,
   "metadata": {},
   "outputs": [],
   "source": [
    "def plotCenterImage(centroid):  # plotCenterImage\n",
    "    imageNum = np.shape(centroid)[1]\n",
    "\n",
    "    for i in range(imageNum):\n",
    "        plt.subplot(5, 2, i + 1) # 5 : row, 2 : colum\n",
    "        plt.imshow(centroid[:, i].reshape((SIZE_ROW, SIZE_COL)), cmap='Greys', interpolation='None')\n",
    "        frame = plt.gca()\n",
    "        frame.axes.get_xaxis().set_visible(False)\n",
    "        frame.axes.get_yaxis().set_visible(False)"
   ]
  },
  {
   "cell_type": "markdown",
   "metadata": {},
   "source": [
    "# computeCenter\n",
    "\n",
    "## calcaulate new center using new label\n",
    "\n",
    "### center 0 example : \n",
    "\n",
    "#### first $$center[0]= (\\sum_{i=0}^{image 0's number} imageVetor[i] )$$\n",
    "\n",
    "#### second $$ center[0] = center[0] / image 0's number $$\n",
    "\n"
   ]
  },
  {
   "cell_type": "code",
   "execution_count": 6,
   "metadata": {},
   "outputs": [],
   "source": [
    "def computeCenter(labelList,imageList,NUM_IMAGE):\n",
    "\n",
    "    center = np.zeros( (SIZE_ROW * SIZE_COL ,10), dtype=float )\n",
    "    count = [0]*10\n",
    "    for k in range( NUM_IMAGE ):\n",
    "        center[:,labelList[k]] += imageList[:,k]               # sum of each label vector \n",
    "        count[labelList[k]] = count[labelList[k]]+1\n",
    "\n",
    "    for l in range(10):\n",
    "        if count[l] == 0:\n",
    "            print(\"label  \"+str(l)+\"인 이미지가 존재하지 않습니다.\")        #error check \n",
    "            center[:,l] = np.zeros(np.shape(center)[0] ,dtype=float)      \n",
    "        else:\n",
    "            center[:,l] = center[:,l]/count[l]                               #center[l] = center[l]/ image l's number\n",
    "\n",
    "    return center"
   ]
  },
  {
   "cell_type": "markdown",
   "metadata": {},
   "source": [
    "# computeAccuracy\n",
    "\n",
    "$$ a[0] = true \\space number \\space 0 \\space  /\\space  assum \\space number \\space 0 $$ "
   ]
  },
  {
   "cell_type": "code",
   "execution_count": 7,
   "metadata": {},
   "outputs": [],
   "source": [
    "def computeAccuracy(trueLable, assumeLable,numberCluster): # list_assume_lable -> assumeLable\n",
    "\n",
    "    count = np.zeros((numberCluster,numberCluster),dtype=int)\n",
    "    accuracy = np.empty(numberCluster,dtype=float)\n",
    "\n",
    "    for label in range(numberCluster):\n",
    "        assumelabel_all = 0\n",
    "        hit =0\n",
    "\n",
    "        for i in range(np.shape(assumeLable)[0]):\n",
    "            if assumeLable[i] == label:\n",
    "                count[label,trueLable[i]] +=1                          #assume Label에 있는 이미지가 true Label과 같으면 +1\n",
    "                assumelabel_all +=1\n",
    "        hit_label = np.argmax(count[label,:])\n",
    "        for i in range(np.shape(assumeLable)[0]):\n",
    "            if assumeLable[i] == label and trueLable[i] == hit_label: # hit_label : assume이 맞았을때\n",
    "                hit+=1\n",
    "        accuracy[label] = hit/assumelabel_all                          # hit_label / 해당 클러스터(0,1.. 과같은 이미지) 모두\n",
    "\n",
    "\n",
    "    return int(np.average(accuracy)*100)"
   ]
  },
  {
   "cell_type": "markdown",
   "metadata": {},
   "source": [
    "# Main Function\n",
    "\n",
    "#### energy, accuarcy : energy , accuarcy list  "
   ]
  },
  {
   "cell_type": "code",
   "execution_count": 8,
   "metadata": {},
   "outputs": [
    {
     "data": {
      "image/png": "[encoded data removed]",
      "text/plain": [
       "<Figure size 432x288 with 10 Axes>"
      ]
     },
     "metadata": {},
     "output_type": "display_data"
    }
   ],
   "source": [
    "if __name__ == \"__main__\":\n",
    "\n",
    "\n",
    "    tempCenter = []\n",
    "    energyGrape = []\n",
    "    accuracyGrape = []\n",
    "    tryGrape = []\n",
    "\n",
    "    realLabel , imageList, NUM_IMAGE = fileRead('mnist_test.csv')\n",
    "    totalDistance = np.empty( NUM_IMAGE, dtype=float )\n",
    "    totalDistance = np.empty( NUM_IMAGE, dtype=int )\n",
    "    assumLabel = labelInit(NUM_IMAGE)\n",
    "    accuracyGrape.append(computeAccuracy(realLabel,assumLabel,10))\n",
    "    center = computeCenter(assumLabel,imageList,NUM_IMAGE)\n",
    "\n",
    "    count = 0\n",
    "    plotCenterImage(center)\n",
    "    plt.show()\n",
    "\n",
    "  \n",
    "    "
   ]
  },
  {
   "cell_type": "markdown",
   "metadata": {},
   "source": [
    "# Initial plotting"
   ]
  },
  {
   "cell_type": "code",
   "execution_count": 9,
   "metadata": {},
   "outputs": [],
   "source": [
    "  while (not np.array_equal(tempCenter ,center)):\n",
    "\n",
    "        tempCenter = center\n",
    "        tryGrape.append(count)\n",
    "        assumLabel,totalDistance = labelChange(imageList,center,NUM_IMAGE)\n",
    "        count = count +1\n",
    "        accuracyGrape.append( computeAccuracy( realLabel, assumLabel, 10) )\n",
    "\n",
    "\n",
    "        energyGrape.append(sum(totalDistance)/10000)\n",
    "\n",
    "        center = computeCenter(assumLabel,imageList,NUM_IMAGE)"
   ]
  },
  {
   "cell_type": "markdown",
   "metadata": {},
   "source": [
    "# Final Plotting"
   ]
  },
  {
   "cell_type": "code",
   "execution_count": 10,
   "metadata": {},
   "outputs": [
    {
     "data": {
      "image/png": "[encoded data removed]",
      "text/plain": [
       "<Figure size 432x288 with 10 Axes>"
      ]
     },
     "metadata": {},
     "output_type": "display_data"
    }
   ],
   "source": [
    "plotCenterImage(center)\n",
    "plt.show()"
   ]
  },
  {
   "cell_type": "markdown",
   "metadata": {},
   "source": [
    "# Result of Energy Graph"
   ]
  },
  {
   "cell_type": "code",
   "execution_count": 11,
   "metadata": {},
   "outputs": [
    {
     "data": {
      "image/png": "[encoded data removed]",
      "text/plain": [
       "<Figure size 432x288 with 1 Axes>"
      ]
     },
     "metadata": {},
     "output_type": "display_data"
    }
   ],
   "source": [
    "    plt.plot(tryGrape,energyGrape)\n",
    "    plt.show()"
   ]
  },
  {
   "cell_type": "markdown",
   "metadata": {},
   "source": [
    "# Result of Accuaracy Graph"
   ]
  },
  {
   "cell_type": "code",
   "execution_count": 12,
   "metadata": {},
   "outputs": [
    {
     "data": {
      "image/png": "[encoded data removed]",
      "text/plain": [
       "<Figure size 432x288 with 1 Axes>"
      ]
     },
     "metadata": {},
     "output_type": "display_data"
    }
   ],
   "source": [
    "    tryGrape.append(++count)\n",
    "    plt.plot(tryGrape,accuracyGrape)\n",
    "    plt.show()"
   ]
  },
  {
   "cell_type": "markdown",
   "metadata": {},
   "source": [
    "# Git Address\n",
    "\n",
    " \\href { https://github.com/LeeKangJin/assignment }"
   ]
  },
  {
   "cell_type": "code",
   "execution_count": null,
   "metadata": {},
   "outputs": [],
   "source": []
  }
 ],
 "metadata": {
  "kernelspec": {
   "display_name": "Python 3",
   "language": "python",
   "name": "python3"
  },
  "language_info": {
   "codemirror_mode": {
    "name": "ipython",
    "version": 3
   },
   "file_extension": ".py",
   "mimetype": "text/x-python",
   "name": "python",
   "nbconvert_exporter": "python",
   "pygments_lexer": "ipython3",
   "version": "3.6.5"
  }
 },
 "nbformat": 4,
 "nbformat_minor": 2
}
