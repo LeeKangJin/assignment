{
 "cells": [
  {
   "cell_type": "markdown",
   "metadata": {},
   "source": [
    "# Assignment 11\n",
    "\n",
    "\n",
    "# 20135619 LeeKangJin\n",
    "\n",
    "# Git Link : https://github.com/LeeKangJin/assignment\n",
    "\n",
    "# Std = 0.1 & Lamda = 0.9 \n"
   ]
  },
  {
   "cell_type": "markdown",
   "metadata": {},
   "source": [
    "import a package."
   ]
  },
  {
   "cell_type": "code",
   "execution_count": 1,
   "metadata": {},
   "outputs": [],
   "source": [
    "import matplotlib.pyplot as plt\n",
    "import numpy as np\n",
    "from numpy.linalg import inv\n",
    "from scipy import signal\n",
    "from skimage import io, color\n",
    "from skimage import exposure"
   ]
  },
  {
   "cell_type": "markdown",
   "metadata": {},
   "source": [
    "# given code.\n",
    "\n",
    "image read"
   ]
  },
  {
   "cell_type": "code",
   "execution_count": 2,
   "metadata": {},
   "outputs": [],
   "source": [
    "# def fileReadNSetStd(std):\n",
    "file_image\t= 'small_cau.png' # chage the image to small\n",
    "\n",
    "im_color \t= io.imread(file_image)\n",
    "im_gray  \t= color.rgb2gray(im_color)\n",
    "im          = (im_gray - np.mean(im_gray)) / np.std(im_gray)\n",
    "(row, col)  = im.shape\n",
    "\n",
    "noise_std   = 0.1 # try with varying noise standard deviation\n",
    "noise       = np.random.normal(0, noise_std, (row, col))\n",
    "im_noise    = im + noise\n",
    "\n",
    "# obtain the reconstructed (denoised) images with varying degrees of regularization \n",
    "\n",
    "im_recon    = im # this must be replaced with the reconstructed (denoised) image \n",
    "noise_recon = im_noise - im_recon\n",
    "error       = np.linalg.norm(im - im_recon)\n",
    "\n",
    "#     return im_color,im_gray,im,row,col,noise_std,noise,im_noise,im_recon,noise_recon,error\n",
    "\n",
    "# filereadNsetStd()"
   ]
  },
  {
   "cell_type": "markdown",
   "metadata": {},
   "source": [
    "# Make D_v, D_h"
   ]
  },
  {
   "cell_type": "code",
   "execution_count": 3,
   "metadata": {},
   "outputs": [],
   "source": [
    "def MakeDmatrix(n,m):\n",
    "    D_h = np.hstack((np.eye(n*m-n), np.zeros((n*m-n, n)))) - np.hstack((np.zeros((n*m-n, n)),np.eye(n*m-n)))\n",
    "    B_v =  np.hstack((np.eye(n-1),np.zeros((n-1,1)))) -np.hstack((np.zeros((n-1,1)),np.eye(n-1)))\n",
    "    D_v = np.kron(np.eye(m),B_v)\n",
    "    return D_v, D_h"
   ]
  },
  {
   "cell_type": "markdown",
   "metadata": {},
   "source": [
    "# Make A Matrix \n",
    "\n",
    "number of image is row. \n",
    "\n",
    "$$\n",
    "A = \\left[{\\begin{array}{ccccc}\n",
    "     I_{nm} \\\\\n",
    "    \\sqrt{\\lambda}D_v  \\\\\n",
    "    \\sqrt{\\lambda}D_h \\end{array}} \\right]\n",
    "$$\n"
   ]
  },
  {
   "cell_type": "code",
   "execution_count": 4,
   "metadata": {},
   "outputs": [],
   "source": [
    "def matrixA(lamda):\n",
    "    D_v,D_h = MakeDmatrix(row,col)\n",
    "    rootLamda = np.power(lamda,noise_std)\n",
    "    tempA1 = np.eye(row*col)\n",
    "    tempA2 = rootLamda*D_v\n",
    "    tempA3 = rootLamda*D_h\n",
    "\n",
    "    return np.vstack([tempA1,tempA2,tempA3])\n",
    "    "
   ]
  },
  {
   "cell_type": "markdown",
   "metadata": {},
   "source": [
    "# Make B"
   ]
  },
  {
   "cell_type": "code",
   "execution_count": 5,
   "metadata": {},
   "outputs": [],
   "source": [
    "def matrixB(b):\n",
    "    return np.vstack([b,np.zeros((2*row*col-row-col,1))])"
   ]
  },
  {
   "cell_type": "markdown",
   "metadata": {},
   "source": [
    "# Tall Matrix Sudo Inverse \n",
    "\n",
    "$$ A_{sudo} = (A^{T}A)^{-1}A^{T} $$\n",
    "\n",
    " * A is not linear independent = can not use inverse.\n",
    " \n",
    " * So i use pinv."
   ]
  },
  {
   "cell_type": "code",
   "execution_count": 6,
   "metadata": {},
   "outputs": [],
   "source": [
    "def Asudo(A):\n",
    "    A_transpose = A.T\n",
    "    SudoA = np.matmul(A_transpose,A)\n",
    "    SudoA = np.linalg.pinv(SudoA)\n",
    "    SudoA = np.matmul(SudoA,A_transpose)\n",
    "    return SudoA"
   ]
  },
  {
   "cell_type": "markdown",
   "metadata": {},
   "source": [
    "# Set the diffrent lamda, std\n"
   ]
  },
  {
   "cell_type": "markdown",
   "metadata": {},
   "source": [
    "# Solve least square\n",
    "\n",
    "$$ x = A_{sudo}b $$"
   ]
  },
  {
   "cell_type": "code",
   "execution_count": 7,
   "metadata": {},
   "outputs": [],
   "source": [
    "A = matrixA(0.9)\n",
    "B = matrixB(im.flatten('F').reshape(-1,1))\n",
    "\n",
    "SudoA = Asudo(A)\n",
    "x = np.matmul(SudoA,B)\n",
    "\n",
    "finalImage = x.reshape((row,col),order='F')\n",
    "err = np.matmul(A,x)-B    "
   ]
  },
  {
   "cell_type": "markdown",
   "metadata": {},
   "source": [
    "\n",
    "\n",
    "np.linalg.norm(ax-b)를 넣으면 error\n"
   ]
  },
  {
   "cell_type": "code",
   "execution_count": 8,
   "metadata": {},
   "outputs": [
    {
     "data": {
      "image/png": "[encoded data removed]",
      "text/plain": [
       "<Figure size 432x288 with 4 Axes>"
      ]
     },
     "metadata": {
      "needs_background": "light"
     },
     "output_type": "display_data"
    }
   ],
   "source": [
    "p1 = plt.subplot(2,2,1)\n",
    "p1.set_title('original image')\n",
    "plt.imshow(im, cmap='gray')\n",
    "plt.axis('off')\n",
    "\n",
    "p2 = plt.subplot(2,2,2)\n",
    "p2.set_title('noisy image')\n",
    "plt.imshow(im_noise, cmap='gray')\n",
    "plt.axis('off')\n",
    "\n",
    "p3 = plt.subplot(2,2,3)\n",
    "p3.set_title('reconstruction')\n",
    "plt.imshow(finalImage, cmap='gray')\n",
    "plt.axis('off')\n",
    "\n",
    "p4 = plt.subplot(2,2,4)\n",
    "p4.set_title('estimated noise')\n",
    "plt.imshow(noise_recon, cmap='gray')\n",
    "plt.axis('off')\n",
    "\n",
    "plt.show()"
   ]
  },
  {
   "cell_type": "code",
   "execution_count": null,
   "metadata": {},
   "outputs": [],
   "source": []
  },
  {
   "cell_type": "code",
   "execution_count": 9,
   "metadata": {},
   "outputs": [
    {
     "name": "stdout",
     "output_type": "stream",
     "text": [
      "14.385199067108433\n"
     ]
    }
   ],
   "source": [
    "err =np.linalg.norm(err)\n",
    "print(err)"
   ]
  }
 ],
 "metadata": {
  "kernelspec": {
   "display_name": "Python 3",
   "language": "python",
   "name": "python3"
  },
  "language_info": {
   "codemirror_mode": {
    "name": "ipython",
    "version": 3
   },
   "file_extension": ".py",
   "mimetype": "text/x-python",
   "name": "python",
   "nbconvert_exporter": "python",
   "pygments_lexer": "ipython3",
   "version": "3.7.0"
  }
 },
 "nbformat": 4,
 "nbformat_minor": 2
}
