{
 "cells": [
  {
   "cell_type": "markdown",
   "metadata": {},
   "source": [
    "# Assignment 09\n",
    "\n",
    "# 20135619 LeeKangJin\n",
    "\n",
    "# Git Link : https://github.com/LeeKangJin/assignment\n"
   ]
  },
  {
   "cell_type": "markdown",
   "metadata": {},
   "source": [
    "import a package."
   ]
  },
  {
   "cell_type": "code",
   "execution_count": 2,
   "metadata": {},
   "outputs": [],
   "source": [
    "import matplotlib.pyplot as plt\n",
    "import numpy as np\n",
    "from numpy.linalg import inv"
   ]
  },
  {
   "cell_type": "markdown",
   "metadata": {},
   "source": [
    "# given function.\n",
    "\n",
    "normalize, distance"
   ]
  },
  {
   "cell_type": "code",
   "execution_count": 3,
   "metadata": {},
   "outputs": [],
   "source": [
    "#\n",
    "# normalize the values of the input data to be [0, 1]\n",
    "#\n",
    "def normalize(data):\n",
    "\n",
    "    data_normalized = (data - min(data)) / (max(data) - min(data))\n",
    "\n",
    "    return(data_normalized)\n"
   ]
  },
  {
   "cell_type": "code",
   "execution_count": 4,
   "metadata": {},
   "outputs": [],
   "source": [
    "#\n",
    "# example of distance function between two vectors x and y\n",
    "#\n",
    "def distance(x, y):\n",
    "\n",
    "    d = (x - y) ** 2\n",
    "    s = np.sum(d)\n",
    "    # r = np.sqrt(s)\n",
    "\n",
    "    return(s)"
   ]
  },
  {
   "cell_type": "markdown",
   "metadata": {},
   "source": [
    "# Declare Global variable "
   ]
  },
  {
   "cell_type": "code",
   "execution_count": 5,
   "metadata": {},
   "outputs": [],
   "source": [
    "file_data_train = \"mnist_train.csv\"\n",
    "file_data_test  = \"mnist_test.csv\"\n",
    "\n",
    "h_data_train    = open(file_data_train, \"r\")\n",
    "h_data_test     = open(file_data_test, \"r\")\n",
    "\n",
    "data_train      = h_data_train.readlines()\n",
    "data_test       = h_data_test.readlines()\n",
    "\n",
    "h_data_train.close()\n",
    "h_data_test.close()\n",
    "\n",
    "size_row    = 28    # height of the image\n",
    "size_col    = 28    # width of the image\n",
    "\n",
    "num_train   = len(data_train)   # number of training images\n",
    "num_test    = len(data_test)    # number of testing images\n",
    "\n",
    "\n",
    "mean = 0\n",
    "std  = 1\n",
    "\n",
    "max_p = 500\n",
    "\n",
    "number_of_scores = 10\n",
    "\n",
    "f1_scores = [0]*number_of_scores"
   ]
  },
  {
   "cell_type": "markdown",
   "metadata": {},
   "source": [
    "# create random vector list"
   ]
  },
  {
   "cell_type": "code",
   "execution_count": 7,
   "metadata": {},
   "outputs": [],
   "source": [
    "random_vectors = np.zeros((max_p,size_row*size_col) ,dtype=float) # 행렬화가 나을수 있음\n",
    "\n",
    "for i in range(max_p):\n",
    "    random_vector = np.random.normal(mean, std, size_row*size_col)\n",
    "    random_vectors[i,:] = random_vector\n",
    "    "
   ]
  },
  {
   "cell_type": "markdown",
   "metadata": {},
   "source": [
    "# Make Random value List"
   ]
  },
  {
   "cell_type": "code",
   "execution_count": 8,
   "metadata": {},
   "outputs": [],
   "source": [
    "#\n",
    "# make a matrix each column of which represents an images in a vector form \n",
    "#\n",
    "list_image_train    = np.empty((size_row * size_col, num_train), dtype=float)\n",
    "list_label_train    = np.empty(num_train, dtype=int)\n",
    "\n",
    "list_image_test     = np.empty((size_row * size_col, num_test), dtype=float)\n",
    "list_label_test     = np.empty(num_test, dtype=int)\n",
    "\n",
    "count = 0\n",
    "\n",
    "for line in data_train:\n",
    "\n",
    "    line_data   = line.split(',')\n",
    "    label       = line_data[0]\n",
    "\n",
    "    im_vector   = np.asfarray(line_data[1:])\n",
    "    im_vector   = normalize(im_vector)\n",
    "\n",
    "   \n",
    "    list_label_train[count]     = label\n",
    "\n",
    "    list_image_train[:, count]  = im_vector    \n",
    "\n",
    "    count += 1\n",
    "\n",
    "count = 0\n",
    "\n",
    "\n",
    "\n",
    "for line in data_test:\n",
    "\n",
    "    line_data   = line.split(',')\n",
    "    label       = line_data[0]\n",
    "    im_vector   = np.asfarray(line_data[1:])\n",
    "    im_vector   = normalize(im_vector)\n",
    " \n",
    "    \n",
    "    list_label_test[count]     = label \n",
    "    \n",
    "    list_image_test[:, count]   = im_vector    \n",
    "\n",
    "    count += 1\n",
    "\n",
    "\n"
   ]
  },
  {
   "cell_type": "markdown",
   "metadata": {},
   "source": [
    "# least square \n",
    "$$ Ax - b $$\n",
    "A : image matrix\n",
    "\n",
    "x : binary classifer ( this section is zero classifer ) \n",
    "\n",
    "b : result ( made by label. zero is 1 , nonzeor is -1 ) "
   ]
  },
  {
   "cell_type": "markdown",
   "metadata": {},
   "source": [
    "# Make A Matrix \n",
    "\n",
    "number of image is row. \n"
   ]
  },
  {
   "cell_type": "code",
   "execution_count": 18,
   "metadata": {},
   "outputs": [],
   "source": [
    "def matrixA(images,randomvectors,p):\n",
    "    Row_size = np.shape(images)[1] # image number.\n",
    "    Col_size = p # image colum number.\n",
    "    \n",
    "    \n",
    "    \n",
    "    A = np.empty((Row_size,Col_size),dtype=float)\n",
    "\n",
    "    for i in range(Row_size):\n",
    "        for j in range(Col_size):\n",
    "                A[i,j] = np.sum(images[:,i]*randomvectors[j]) # np 형식 때문에 잘되는지 확인 필요..\n",
    "    return A"
   ]
  },
  {
   "cell_type": "markdown",
   "metadata": {},
   "source": [
    "# Make B"
   ]
  },
  {
   "cell_type": "code",
   "execution_count": 14,
   "metadata": {},
   "outputs": [],
   "source": [
    "def matrixB(labels):\n",
    "    \n",
    "    leng = np.shape(labels)[0]\n",
    "    B = labels.reshape((leng,1))\n",
    "\n",
    "    digit = [B ==0, B!=0]\n",
    "    trueOrnot = [1,-1]\n",
    "\n",
    "    return np.select(digit,trueOrnot)"
   ]
  },
  {
   "cell_type": "markdown",
   "metadata": {},
   "source": [
    "# Tall Matrix Sudo Inverse \n",
    "\n",
    "$$ A_{sudo} = (A^{T}A)^{-1}A^{T} $$\n",
    "\n",
    " * A is not linear independent = can not use inverse.\n",
    " \n",
    " * So i use pinv."
   ]
  },
  {
   "cell_type": "code",
   "execution_count": 15,
   "metadata": {},
   "outputs": [],
   "source": [
    "def Asudo(A):\n",
    "    A_transpose = A.transpose()\n",
    "    SudoA = np.matmul(A_transpose,A)\n",
    "    SudoA = np.linalg.pinv(SudoA)\n",
    "    SudoA = np.matmul(SudoA,A_transpose)\n",
    "    return SudoA"
   ]
  },
  {
   "cell_type": "markdown",
   "metadata": {},
   "source": [
    "# Solve least square\n",
    "\n",
    "$$ x = A_{sudo}b $$"
   ]
  },
  {
   "cell_type": "code",
   "execution_count": 38,
   "metadata": {},
   "outputs": [],
   "source": [
    "def cal_average(list_image,list_index):\n",
    "    aver = np.zeros((28*28),dtype = float)\n",
    "    for i in range(len(list_index)):\n",
    "        aver = aver + list_image[:,list_index[i]]\n",
    "    \n",
    "    aver = aver/ len(list_index) \n",
    "    \n",
    "    return aver"
   ]
  },
  {
   "cell_type": "code",
   "execution_count": 37,
   "metadata": {},
   "outputs": [],
   "source": [
    "def plot_image(aver_image,title):\n",
    "    plt.title(title)\n",
    "    plt.imshow(aver_image.reshape((28, 28)), \n",
    "               cmap='Greys', interpolation='None') \n",
    "    frame   = plt.gca()\n",
    "    frame.axes.get_xaxis().set_visible(False)\n",
    "    frame.axes.get_yaxis().set_visible(False)\n",
    "    plt.show()"
   ]
  },
  {
   "cell_type": "code",
   "execution_count": 39,
   "metadata": {},
   "outputs": [],
   "source": [
    "def onetime_x(ourP):\n",
    "    A = matrixA(list_image_train,random_vectors,ourP)\n",
    "    B = matrixB(list_label_train)\n",
    "\n",
    "    SudoA = Asudo(A)\n",
    "\n",
    "    x = np.matmul(SudoA,B)\n",
    "    return x"
   ]
  },
  {
   "cell_type": "markdown",
   "metadata": {},
   "source": [
    "# F1 Score :  \n",
    "\n",
    "$$ F_{1} = 2 \\frac{(precision \\cdot recall)}{precison+recall}$$\n",
    "\n",
    "\n",
    "$$ precision = \\frac{TP}{TP+FP} $$\n",
    "\n",
    "\n",
    "$$ recall = \\frac{TP}{TP+FN} $$"
   ]
  },
  {
   "cell_type": "code",
   "execution_count": 49,
   "metadata": {},
   "outputs": [],
   "source": [
    "def f1_score_function(tp,tn,fp,fn):\n",
    "    precision = tp/(tp+fp)\n",
    "    \n",
    "    if tp+fn == 0:\n",
    "        print(\"error\")\n",
    "\n",
    "    recall = tp/(tp+fn)\n",
    "\n",
    "    f1_score = 2*(precision*recall)/(precision+recall)\n",
    "\n",
    "    return f1_score"
   ]
  },
  {
   "cell_type": "code",
   "execution_count": 48,
   "metadata": {
    "scrolled": false
   },
   "outputs": [],
   "source": [
    "def onetime_f1score(ourP,x):\n",
    "    Atest = matrixA(list_image_test,random_vectors,ourP)\n",
    "    Btest = matrixB(list_label_test)\n",
    "\n",
    "    tp = 0\n",
    "    fp = 0\n",
    "    tn = 0\n",
    "    fn = 0\n",
    "\n",
    "    tpindex = []\n",
    "    fpindex = []\n",
    "    tnindex = []\n",
    "    fnindex = []\n",
    "\n",
    "\n",
    "    xtest = np.matmul(Atest,x)\n",
    "\n",
    "\n",
    "    xtest[ xtest == 0 ]  = 1 \n",
    "    xtest = np.sign(xtest)\n",
    "\n",
    "\n",
    "\n",
    "    # ax = b test\n",
    "    for i in range(len(list_label_test)):\n",
    "\n",
    "\n",
    "        if (xtest[i,0] == 1.0) and (int(1) == int(Btest[i,0])) :\n",
    "            tpindex.append(i)\n",
    "            tp = tp +1\n",
    "\n",
    "        elif (xtest[i,0] == -1.0) and (int(-1) == int(Btest[i,0])) :\n",
    "            fpindex.append(i)\n",
    "            fp = fp +1\n",
    "\n",
    "        elif (xtest[i,0] == 1.0 ) and (int(1) != int(Btest[i,0])):\n",
    "            tnindex.append(i)\n",
    "            tn = tn +1\n",
    "\n",
    "        else:\n",
    "            fnindex.append(i)\n",
    "            fn = fn +1\n",
    "\n",
    "    return tn,fp,tn,fn,tpindex,fpindex,tnindex,fnindex,f1_score_function(tp,tn,fp,fn)\n",
    "\n",
    "    "
   ]
  },
  {
   "cell_type": "markdown",
   "metadata": {},
   "source": [
    "# F1 score graph"
   ]
  },
  {
   "cell_type": "code",
   "execution_count": 51,
   "metadata": {},
   "outputs": [
    {
     "name": "stdout",
     "output_type": "stream",
     "text": [
      "zz\n"
     ]
    },
    {
     "data": {
      "image/png": "[encoded data removed]",
      "text/plain": [
       "<Figure size 432x288 with 1 Axes>"
      ]
     },
     "metadata": {},
     "output_type": "display_data"
    }
   ],
   "source": [
    "y = []\n",
    "fc= []\n",
    "\n",
    "for i in [1,2,4,8,16,64,128,256,499]:\n",
    "    fc.append(onetime_f1score(i,onetime_x(i)))\n",
    "    y.append(fc[-1][-1])\n",
    "\n",
    "plt.plot([0,1,2,3,4,5,6,7,8],y)\n",
    "\n",
    "\n",
    "soluationResult = max(y)\n",
    "\n",
    "for i in range(len(y)):\n",
    "    if y[i] == soluationResult:\n",
    "        c = i\n",
    "        break\n",
    "        \n",
    "tn,fp,tn,fn,tpindex,fpindex,tnindex,fnindex,f1_score =fc[c]\n",
    "\n",
    "plt.show()"
   ]
  },
  {
   "cell_type": "markdown",
   "metadata": {},
   "source": [
    "# Plot TP Number & highest f1 's average TP "
   ]
  },
  {
   "cell_type": "code",
   "execution_count": 52,
   "metadata": {},
   "outputs": [
    {
     "name": "stdout",
     "output_type": "stream",
     "text": [
      "273\n"
     ]
    },
    {
     "data": {
      "image/png": "[encoded data removed]",
      "text/plain": [
       "<Figure size 432x288 with 1 Axes>"
      ]
     },
     "metadata": {},
     "output_type": "display_data"
    }
   ],
   "source": [
    "print(tp)\n",
    "aver = cal_average(list_image_test,tpindex)\n",
    "plot_image(aver,\"True Positive\")\n",
    "aver = np.zeros((28*28),dtype = float)"
   ]
  },
  {
   "cell_type": "markdown",
   "metadata": {},
   "source": [
    "# Plot FP Number & highest f1 's average FP"
   ]
  },
  {
   "cell_type": "code",
   "execution_count": 53,
   "metadata": {},
   "outputs": [
    {
     "name": "stdout",
     "output_type": "stream",
     "text": [
      "8956\n"
     ]
    },
    {
     "data": {
      "image/png": "[encoded data removed]",
      "text/plain": [
       "<Figure size 432x288 with 1 Axes>"
      ]
     },
     "metadata": {},
     "output_type": "display_data"
    }
   ],
   "source": [
    "print(fp)\n",
    "aver = cal_average(list_image_test,fpindex)\n",
    "plot_image(aver,\"False Positive\")\n",
    "aver = np.zeros((28*28),dtype = float)"
   ]
  },
  {
   "cell_type": "markdown",
   "metadata": {},
   "source": [
    "# Plot TN Number &highest f1 's average TN"
   ]
  },
  {
   "cell_type": "code",
   "execution_count": 54,
   "metadata": {},
   "outputs": [
    {
     "name": "stdout",
     "output_type": "stream",
     "text": [
      "64\n"
     ]
    },
    {
     "data": {
      "image/png": "[encoded data removed]",
      "text/plain": [
       "<Figure size 432x288 with 1 Axes>"
      ]
     },
     "metadata": {},
     "output_type": "display_data"
    }
   ],
   "source": [
    "print(tn)\n",
    "aver = cal_average(list_image_test,tnindex)\n",
    "plot_image(aver,\"True Negative\")\n",
    "aver = np.zeros((28*28),dtype = float)"
   ]
  },
  {
   "cell_type": "markdown",
   "metadata": {},
   "source": [
    "# Plot FN Number & highest f1 's average FN"
   ]
  },
  {
   "cell_type": "code",
   "execution_count": 55,
   "metadata": {},
   "outputs": [
    {
     "name": "stdout",
     "output_type": "stream",
     "text": [
      "62\n"
     ]
    },
    {
     "data": {
      "image/png": "[encoded data removed]",
      "text/plain": [
       "<Figure size 432x288 with 1 Axes>"
      ]
     },
     "metadata": {},
     "output_type": "display_data"
    }
   ],
   "source": [
    "print(fn)\n",
    "aver = cal_average(list_image_test,fnindex)\n",
    "plot_image(aver,\"False Negative\")\n",
    "aver = np.zeros((28*28),dtype = float)"
   ]
  },
  {
   "cell_type": "markdown",
   "metadata": {},
   "source": [
    "# Highest F1 score ( p = 499 )"
   ]
  },
  {
   "cell_type": "code",
   "execution_count": 56,
   "metadata": {},
   "outputs": [
    {
     "name": "stdout",
     "output_type": "stream",
     "text": [
      "0.16915422885572137\n"
     ]
    }
   ],
   "source": [
    "print(f1_score)"
   ]
  },
  {
   "cell_type": "code",
   "execution_count": null,
   "metadata": {},
   "outputs": [],
   "source": []
  }
 ],
 "metadata": {
  "kernelspec": {
   "display_name": "Python 3",
   "language": "python",
   "name": "python3"
  },
  "language_info": {
   "codemirror_mode": {
    "name": "ipython",
    "version": 3
   },
   "file_extension": ".py",
   "mimetype": "text/x-python",
   "name": "python",
   "nbconvert_exporter": "python",
   "pygments_lexer": "ipython3",
   "version": "3.6.5"
  }
 },
 "nbformat": 4,
 "nbformat_minor": 2
}
